{
  "nbformat": 4,
  "nbformat_minor": 0,
  "metadata": {
    "colab": {
      "name": "Rock Paper Scissors (GitHub).ipynb",
      "provenance": [],
      "authorship_tag": "ABX9TyOuviXCzI7jX2vXSWmh9TH0",
      "include_colab_link": true
    },
    "kernelspec": {
      "name": "python3",
      "display_name": "Python 3"
    }
  },
  "cells": [
    {
      "cell_type": "markdown",
      "metadata": {
        "id": "view-in-github",
        "colab_type": "text"
      },
      "source": [
        "<a href=\"https://colab.research.google.com/github/ShivanshGupta1/Rock-Paper-Scissors-Python-/blob/main/Rock_Paper_Scissors_(GitHub).ipynb\" target=\"_parent\"><img src=\"https://colab.research.google.com/assets/colab-badge.svg\" alt=\"Open In Colab\"/></a>"
      ]
    },
    {
      "cell_type": "code",
      "metadata": {
        "id": "zkr3yUmV1TPQ"
      },
      "source": [
        "from random import*\n",
        "computer = randint(1,3)\n",
        "user = input('Choose Rock, Paper Or Scissors: ')\n",
        "if user=='Rock' or 'rock':\n",
        "  if computer==1:\n",
        "    print('It is a tie')\n",
        "    print('The Computer chose Rock')\n",
        "  elif computer==2:\n",
        "    print('You Lost')\n",
        "    print('The Computer chose Paper')\n",
        "  else:\n",
        "    print('You Won!')\n",
        "    print('The Computer chose Scissors')\n",
        "elif user=='Paper' or 'paper':\n",
        "  if computer==1:\n",
        "    print('You Won!')\n",
        "    print('The Computer chose Rock')\n",
        "  elif computer==2:\n",
        "    print('It is a tie')\n",
        "    print('The Computer chose Paper')\n",
        "  else:\n",
        "    print('You Lost')\n",
        "    print('The Computer chose Scissors')\n",
        "else:\n",
        "  if computer==1:\n",
        "    print('You Lost')\n",
        "    print('The Computer chose Rock')\n",
        "  elif computer==2:\n",
        "    print('You Won!')\n",
        "    print('The Computer chose Paper')\n",
        "  else:\n",
        "    print('It is a tie')\n",
        "    print('The Computer chose Scissors')\n"
      ],
      "execution_count": null,
      "outputs": []
    },
    {
      "cell_type": "code",
      "metadata": {
        "id": "mIccPZqO1VHA"
      },
      "source": [
        "from random import*\n",
        "computer = randint(1,3)\n",
        "user = input('Choose Rock, Paper Or Scissors: ')\n",
        "if user=='Rock':\n",
        "  computer = 2\n",
        "  if computer==2:\n",
        "    print('You Lost')\n",
        "    print('The Computer chose Paper')\n",
        "elif user=='Paper':\n",
        "  computer = 3\n",
        "  if computer==3:\n",
        "    print('You Lost')\n",
        "    print('The Computer chose Scissors')\n",
        "else:\n",
        "  computer = 1\n",
        "  if computer==1:\n",
        "    print('You Lost')\n",
        "    print('The Computer chose Rock')\n",
        "\n"
      ],
      "execution_count": null,
      "outputs": []
    },
    {
      "cell_type": "code",
      "metadata": {
        "id": "ga0tE2I11WNx"
      },
      "source": [
        "from random import*\n",
        "computer = randint(1,3)\n",
        "user = input('Choose Rock, Paper Or Scissors: ')\n",
        "if user=='Rock':\n",
        "  computer = 3\n",
        "  if computer==3:\n",
        "    print('You Won')\n",
        "    print('The Computer chose Scissors')\n",
        "elif user=='Paper':\n",
        "  computer = 1\n",
        "  if computer==1:\n",
        "    print('You Won')\n",
        "    print('The Computer chose Rock')\n",
        "else:\n",
        "  computer = 2\n",
        "  if computer==2:\n",
        "    print('You Won')\n",
        "    print('The Computer chose Paper')"
      ],
      "execution_count": null,
      "outputs": []
    }
  ]
}